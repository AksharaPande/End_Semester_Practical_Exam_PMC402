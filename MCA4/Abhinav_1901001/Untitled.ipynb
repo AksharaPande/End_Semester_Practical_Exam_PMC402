{
 "cells": [
  {
   "cell_type": "code",
   "execution_count": 47,
   "id": "8a689fab",
   "metadata": {},
   "outputs": [],
   "source": [
    "import pandas as pd"
   ]
  },
  {
   "cell_type": "code",
   "execution_count": 48,
   "id": "e9ff62dd",
   "metadata": {},
   "outputs": [],
   "source": [
    "data = pd.read_csv('./station_day.csv')"
   ]
  },
  {
   "cell_type": "code",
   "execution_count": 49,
   "id": "0fc6e87e",
   "metadata": {},
   "outputs": [
    {
     "data": {
      "text/plain": [
       "StationId     False\n",
       "Date          False\n",
       "PM2.5          True\n",
       "PM10           True\n",
       "NO             True\n",
       "NO2            True\n",
       "NOx            True\n",
       "NH3            True\n",
       "CO             True\n",
       "SO2            True\n",
       "O3             True\n",
       "Benzene        True\n",
       "Toluene        True\n",
       "Xylene         True\n",
       "AQI            True\n",
       "AQI_Bucket     True\n",
       "dtype: bool"
      ]
     },
     "execution_count": 49,
     "metadata": {},
     "output_type": "execute_result"
    }
   ],
   "source": [
    "data.isna().any()"
   ]
  },
  {
   "cell_type": "code",
   "execution_count": 50,
   "id": "88cb7896",
   "metadata": {},
   "outputs": [
    {
     "name": "stdout",
     "output_type": "stream",
     "text": [
      "StationId      0.000000\n",
      "Date           0.000000\n",
      "PM2.5         20.016661\n",
      "PM10          39.529782\n",
      "NO            15.833758\n",
      "NO2           15.316333\n",
      "NOx           14.347202\n",
      "NH3           44.527237\n",
      "CO            12.031286\n",
      "SO2           23.329477\n",
      "O3            23.666404\n",
      "Benzene       29.115564\n",
      "Toluene       35.823576\n",
      "Xylene        78.805017\n",
      "AQI           19.447401\n",
      "AQI_Bucket    19.447401\n",
      "dtype: float64\n"
     ]
    }
   ],
   "source": [
    "percent_missing = data.isnull().sum() * 100 / len(data)\n",
    "print(percent_missing)"
   ]
  },
  {
   "cell_type": "code",
   "execution_count": 51,
   "id": "4068ef3f",
   "metadata": {},
   "outputs": [
    {
     "data": {
      "text/plain": [
       "StationId     False\n",
       "Date          False\n",
       "PM2.5         False\n",
       "PM10          False\n",
       "NO            False\n",
       "NO2           False\n",
       "NOx           False\n",
       "NH3           False\n",
       "CO            False\n",
       "SO2           False\n",
       "O3            False\n",
       "Benzene       False\n",
       "Toluene       False\n",
       "Xylene        False\n",
       "AQI           False\n",
       "AQI_Bucket    False\n",
       "dtype: bool"
      ]
     },
     "execution_count": 51,
     "metadata": {},
     "output_type": "execute_result"
    }
   ],
   "source": [
    "data.dropna(inplace=True)\n",
    "data.isna().any()"
   ]
  },
  {
   "cell_type": "code",
   "execution_count": 52,
   "id": "b5627584",
   "metadata": {},
   "outputs": [
    {
     "data": {
      "text/plain": [
       "array([[<AxesSubplot:title={'center':'PM10'}>,\n",
       "        <AxesSubplot:title={'center':'NO'}>],\n",
       "       [<AxesSubplot:title={'center':'SO2'}>,\n",
       "        <AxesSubplot:title={'center':'O3'}>]], dtype=object)"
      ]
     },
     "execution_count": 52,
     "metadata": {},
     "output_type": "execute_result"
    },
    {
     "data": {
      "image/png": "[encoded data removed]",
      "text/plain": [
       "<Figure size 432x288 with 4 Axes>"
      ]
     },
     "metadata": {
      "needs_background": "light"
     },
     "output_type": "display_data"
    }
   ],
   "source": [
    "temp_data = data[['PM10', 'NO', 'SO2', 'O3']]\n",
    "temp_data.hist()"
   ]
  },
  {
   "cell_type": "code",
   "execution_count": 58,
   "id": "a6defd37",
   "metadata": {},
   "outputs": [
    {
     "name": "stdout",
     "output_type": "stream",
     "text": [
      "      PM10    NO    SO2      O3    AQI\n",
      "11  121.77  3.70  14.02  117.93  198.0\n",
      "12  139.36  1.60  16.54  117.21  201.0\n",
      "13  181.64  4.26  28.79   94.63  252.0\n",
      "14  208.86  5.56  22.97   68.60  310.0\n",
      "15  141.22  6.10  21.90   60.62  196.0\n",
      "16  102.77  1.73  13.65   68.15  132.0\n",
      "17  115.27  4.93  18.37   73.75  147.0\n",
      "18  131.48  7.97   7.42   44.67  179.0\n",
      "19   99.74  7.20   5.81   50.16  145.0\n",
      "20   98.94  5.81   5.80   55.00  115.0\n"
     ]
    }
   ],
   "source": [
    "data = data.loc[:,['PM10', 'NO', 'SO2', 'O3', 'AQI']]\n",
    "data = data.iloc[10:20]\n",
    "print(data)"
   ]
  },
  {
   "cell_type": "code",
   "execution_count": null,
   "id": "e5b504ac",
   "metadata": {},
   "outputs": [],
   "source": []
  }
 ],
 "metadata": {
  "kernelspec": {
   "display_name": "Python 3",
   "language": "python",
   "name": "python3"
  },
  "language_info": {
   "codemirror_mode": {
    "name": "ipython",
    "version": 3
   },
   "file_extension": ".py",
   "mimetype": "text/x-python",
   "name": "python",
   "nbconvert_exporter": "python",
   "pygments_lexer": "ipython3",
   "version": "3.6.9"
  }
 },
 "nbformat": 4,
 "nbformat_minor": 5
}
